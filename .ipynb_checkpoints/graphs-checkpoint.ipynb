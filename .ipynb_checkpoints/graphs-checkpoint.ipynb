{
 "cells": [
  {
   "cell_type": "code",
   "execution_count": 65,
   "metadata": {},
   "outputs": [],
   "source": [
    "# BFS -- like BFT for Trees, but need to keep track of cycles (boolean flag)\n",
    "# If we don't mark vertices as being visited --> non-terminating process\n",
    "\n",
    "from collections import defaultdict\n",
    "\n",
    "class Graph: \n",
    "    \n",
    "    \"\"\" Adjacency list representation of graph \"\"\"\n",
    "    \n",
    "    def __init__(self):\n",
    "        self.graph = defaultdict(list)\n",
    "\n",
    "    def addEdge(self, u, v):\n",
    "        self.graph[u].append(v)\n",
    "        \n",
    "    # Breadth First Search starting from source vertex s \n",
    "    def BFS(self, s):\n",
    "        \n",
    "        # Mark all vertices as not being visited\n",
    "        visited = set()\n",
    "        \n",
    "        queue = []\n",
    "        queue.append(s) # Enqueue node s \n",
    "        visited.add(s)\n",
    "        \n",
    "        while queue:\n",
    "            \n",
    "            s = queue.pop(0)\n",
    "            print(s, end = \" \")\n",
    "            \n",
    "            for i in self.graph[s]:\n",
    "                if i not in visited:\n",
    "                    queue.append(i)\n",
    "                    visited.add(i)"
   ]
  },
  {
   "cell_type": "code",
   "execution_count": 66,
   "metadata": {},
   "outputs": [
    {
     "name": "stdout",
     "output_type": "stream",
     "text": [
      "2 0 3 1 "
     ]
    }
   ],
   "source": [
    "g = Graph() \n",
    "g.addEdge(0, 1) \n",
    "g.addEdge(0, 2) \n",
    "g.addEdge(1, 2) \n",
    "g.addEdge(2, 0) \n",
    "g.addEdge(2, 3) \n",
    "g.addEdge(3, 3) \n",
    "\n",
    "g.BFS(2)"
   ]
  },
  {
   "cell_type": "code",
   "execution_count": 57,
   "metadata": {},
   "outputs": [],
   "source": [
    "# Water supply problem\n",
    "from collections import deque \n",
    "\n",
    "class WaterGraph: \n",
    "        \n",
    "    def __init__(self, blocked):\n",
    "        self.graph = defaultdict(list)\n",
    "        self.blocked = blocked\n",
    "\n",
    "    def addEdge(self, u, v):\n",
    "        self.graph[u].append(v)\n",
    "        \n",
    "    # Breadth First Search starting from source vertex s \n",
    "    def BFS(self, s):\n",
    "        \n",
    "        if self.blocked[s] == 1:\n",
    "            return\n",
    "        \n",
    "        counter = 1\n",
    "        \n",
    "        # Mark all vertices as not being visited\n",
    "        visited = [False] * len(self.blocked)\n",
    "        \n",
    "        queue = deque()\n",
    "        queue.append(s) # Enqueue node s \n",
    "        visited[s - 1] = True\n",
    "        \n",
    "        while queue:\n",
    "            \n",
    "            s = queue.popleft()\n",
    "#             print(s, end = \" \")\n",
    "            \n",
    "            for i in self.graph[s]:\n",
    "                if visited[i - 1] == False and self.blocked[i - 1] == False:\n",
    "                    queue.append(i)\n",
    "                    counter += 1\n",
    "                    visited[i - 1] = True\n",
    "                    \n",
    "        return counter"
   ]
  },
  {
   "cell_type": "code",
   "execution_count": 58,
   "metadata": {},
   "outputs": [
    {
     "name": "stdout",
     "output_type": "stream",
     "text": [
      "1\n",
      "None\n",
      "None\n",
      "5\n",
      "4\n",
      "3\n",
      "2\n",
      "5\n"
     ]
    }
   ],
   "source": [
    "# Carrying out BFS on each node and counting maximum cities visited\n",
    "\n",
    "blocked = [0,1,1,0,0,0,0]\n",
    "g = WaterGraph(blocked)\n",
    "g.addEdge(1,2)\n",
    "g.addEdge(2,3)\n",
    "g.addEdge(3,4)\n",
    "g.addEdge(4,5)\n",
    "g.addEdge(5,6)\n",
    "g.addEdge(6,7)\n",
    "\n",
    "max_count = 0\n",
    "for i in range(len(blocked)):\n",
    "    cities = g.BFS(i)\n",
    "    print(cities)\n",
    "    if cities and cities > max_count:\n",
    "        max_count = cities\n",
    "\n",
    "print(max_count)"
   ]
  },
  {
   "cell_type": "code",
   "execution_count": 67,
   "metadata": {},
   "outputs": [],
   "source": [
    "\"\"\" DFS \"\"\"\n",
    "\n",
    "# Start with arbitrary node as root and explore each neighbor fully before exploring next node\n",
    "\n",
    "class Graph: \n",
    "    \n",
    "    \"\"\" Adjacency list representation of graph \"\"\"\n",
    "    \n",
    "    def __init__(self):\n",
    "        self.graph = defaultdict(list)\n",
    "\n",
    "    def addEdge(self, u, v):\n",
    "        self.graph[u].append(v)\n",
    "        \n",
    "    def DFS(self, start):\n",
    "        visited = set()\n",
    "        stack = [start]\n",
    "        \n",
    "        while stack:\n",
    "            vertex = stack.pop()\n",
    "            print(vertex, end = \" \")\n",
    "            \n",
    "            if vertex not in visited:\n",
    "                visited.add(vertex)\n",
    "            \n",
    "                for neighbor in self.graph[vertex]:\n",
    "                    if neighbor not in visited:\n",
    "                        stack.append(neighbor)"
   ]
  },
  {
   "cell_type": "code",
   "execution_count": 68,
   "metadata": {},
   "outputs": [],
   "source": [
    "g = Graph() \n",
    "g.addEdge(0, 1) \n",
    "g.addEdge(0, 2) \n",
    "g.addEdge(1, 2) \n",
    "g.addEdge(2, 0) \n",
    "g.addEdge(2, 3) \n",
    "g.addEdge(3, 3) \n",
    "\n",
    "g.DFS(0)"
   ]
  },
  {
   "cell_type": "code",
   "execution_count": null,
   "metadata": {},
   "outputs": [],
   "source": []
  }
 ],
 "metadata": {
  "kernelspec": {
   "display_name": "Python 3",
   "language": "python",
   "name": "python3"
  },
  "language_info": {
   "codemirror_mode": {
    "name": "ipython",
    "version": 3
   },
   "file_extension": ".py",
   "mimetype": "text/x-python",
   "name": "python",
   "nbconvert_exporter": "python",
   "pygments_lexer": "ipython3",
   "version": "3.8.3"
  }
 },
 "nbformat": 4,
 "nbformat_minor": 4
}
